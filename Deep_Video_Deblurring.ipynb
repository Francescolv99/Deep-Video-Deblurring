{
  "nbformat": 4,
  "nbformat_minor": 0,
  "metadata": {
    "colab": {
      "name": "Deep_Video_Deblurring.ipynb",
      "provenance": [],
      "collapsed_sections": [],
      "include_colab_link": true
    },
    "kernelspec": {
      "name": "python3",
      "display_name": "Python 3"
    },
    "language_info": {
      "name": "python"
    },
    "accelerator": "GPU",
    "gpuClass": "standard"
  },
  "cells": [
    {
      "cell_type": "markdown",
      "metadata": {
        "id": "view-in-github",
        "colab_type": "text"
      },
      "source": [
        "<a href=\"https://colab.research.google.com/github/Francescolv99/Deep-Video-Deblurring/blob/main/Deep_Video_Deblurring.ipynb\" target=\"_parent\"><img src=\"https://colab.research.google.com/assets/colab-badge.svg\" alt=\"Open In Colab\"/></a>"
      ]
    },
    {
      "cell_type": "markdown",
      "source": [
        "Ottengo il dataset scaricandolo dal link in questione\n"
      ],
      "metadata": {
        "id": "cXUaeysACDpl"
      }
    },
    {
      "cell_type": "code",
      "source": [
        "!wget http://www.cs.ubc.ca/labs/imager/tr/2017/DeepVideoDeblurring/DeepVideoDeblurring_Dataset.zip\n",
        "!unzip /content/DeepVideoDeblurring_Dataset.zip"
      ],
      "metadata": {
        "id": "AKW5l-1JskMI"
      },
      "execution_count": null,
      "outputs": []
    },
    {
      "cell_type": "markdown",
      "source": [
        "Importo i pacchetti necessari"
      ],
      "metadata": {
        "id": "eNlW9qYv85FQ"
      }
    },
    {
      "cell_type": "code",
      "source": [
        "import tensorflow as tf\n",
        "from tensorflow import keras\n",
        "import numpy as np\n",
        "from PIL import Image\n",
        "import pandas as pd\n",
        "import os"
      ],
      "metadata": {
        "id": "LNB60UxzCJuV"
      },
      "execution_count": null,
      "outputs": []
    },
    {
      "cell_type": "markdown",
      "source": [
        "Creo le variabili x e y e le funzioni necessarie per lavorare il dataset"
      ],
      "metadata": {
        "id": "ajJKxdKECT_t"
      }
    },
    {
      "cell_type": "code",
      "source": [
        "#modificare le funzioni per prendere un dataset corretto e non troppo costoso\n",
        "\n",
        "\n",
        "#dim immagini 720x1280x3\n",
        "x = []\n",
        "y = []\n",
        "\n",
        "def appendImmagine(filename, x):\n",
        "    im_1 = Image.open(filename)\n",
        "    ar = np.array(im_1)\n",
        "    x.append(ar)\n",
        "    return x\n",
        "    \n",
        "\n",
        "#accedo ad ogni immagine nel database e le inserisco in forma matriciale in x e y\n",
        "def ottieniImmagini(filename, x , y):\n",
        "    #apro la cartella del dataset\n",
        "    entries = os.listdir(filename)\n",
        "    #entries.pop(0)\n",
        "    #apro ogni sottocartella\n",
        "    print(\"LOADING DATASET:\")\n",
        "    for cartella in entries:\n",
        "        if(cartella==\".DS_Store\"):\n",
        "              continue\n",
        "        lista_cartella = os.listdir(filename + '/'+ cartella)\n",
        "        #lista_cartella.pop(0)\n",
        "        #lista_cartella è la lista di sottocartelle all'interno di \"qualitative o quantitative dataset\"\n",
        "        for cartella2 in lista_cartella:\n",
        "          #cartella2 sarebbe per esempio /qualitative_datasets/alley\n",
        "          if(cartella2==\".DS_Store\"):\n",
        "              continue\n",
        "          sottocartella = os.listdir(filename + '/'+ cartella + '/' + cartella2)\n",
        "          if(len(sottocartella)<2):\n",
        "            continue\n",
        "            #sottocartella2 è per esempio /qualitative_datasets/alley/input\n",
        "          for sottocartella2 in sottocartella:\n",
        "            if(sottocartella2==\".DS_Store\"):\n",
        "              continue\n",
        "            lista_immagini = os.listdir(filename + '/' + cartella + '/' + cartella2 + '/' + sottocartella2)\n",
        "            if(sottocartella2==\"input\"):\n",
        "              for immagine in lista_immagini:\n",
        "                if(immagine==\".DS_Store\"): \n",
        "                    continue\n",
        "                x = appendImmagine(filename + '/' + cartella + '/' + cartella2 + '/' + sottocartella2 + '/' + immagine, x)\n",
        "            else:\n",
        "                for immagine in lista_immagini:\n",
        "                    if(immagine==\".DS_Store\"): \n",
        "                        continue\n",
        "                    y = appendImmagine(filename + '/' + cartella + '/' + cartella2 + '/' + sottocartella2 + '/' + immagine, y)\n",
        "    return x, y\n",
        "\n",
        "def ottieniImmaginiTest(filename,x, y):\n",
        "    #apro la cartella del dataset\n",
        "    entries = os.listdir(filename)\n",
        "    #entries.pop(0)\n",
        "    #apro ogni sottocartella\n",
        "    print(\"LOADING DATASET:\")\n",
        "    for cartella in entries:\n",
        "        if(cartella==\"input\"):\n",
        "            lista_immagini = os.listdir(filename + '/' + cartella)\n",
        "            for immagine in lista_immagini:\n",
        "                if(immagine==\".DS_Store\"): \n",
        "                    continue\n",
        "                x = appendImmagine(filename + '/' + cartella + '/' + immagine, x)\n",
        "        elif(cartella==\".DS_Store\"):\n",
        "          continue\n",
        "        else:\n",
        "            lista_immagini = os.listdir(filename + '/' + cartella)\n",
        "            for immagine in lista_immagini:\n",
        "                if(immagine==\".DS_Store\"): \n",
        "                    continue\n",
        "                y = appendImmagine(filename + '/' + cartella + '/' + immagine, y)\n",
        "    return x, y"
      ],
      "metadata": {
        "id": "-1QjNCxiCUgV"
      },
      "execution_count": null,
      "outputs": []
    },
    {
      "cell_type": "markdown",
      "source": [],
      "metadata": {
        "id": "2C3meFZECdM8"
      }
    },
    {
      "cell_type": "code",
      "source": [
        "#x, y = ottieniImmagini('/content/DeepVideoDeblurring_Dataset', x , y)\n",
        "x,y = ottieniImmaginiTest('/content/DeepVideoDeblurring_Dataset/quantitative_datasets/720p_240fps_1',x,y)\n",
        "#\n",
        "x = np.array(x)\n",
        "y = np.array(y)\n"
      ],
      "metadata": {
        "colab": {
          "base_uri": "https://localhost:8080/"
        },
        "id": "_jDl0CBaCdXU",
        "outputId": "ea8d5f0e-434e-47ac-dea8-6c8c5c133768"
      },
      "execution_count": null,
      "outputs": [
        {
          "output_type": "stream",
          "name": "stdout",
          "text": [
            "LOADING DATASET:\n"
          ]
        }
      ]
    },
    {
      "cell_type": "code",
      "source": [
        "print(np.shape(x),np.shape(y))"
      ],
      "metadata": {
        "colab": {
          "base_uri": "https://localhost:8080/"
        },
        "id": "LJBwoNnjsSDh",
        "outputId": "1c633482-d3ee-4589-88ea-13fadf03232f"
      },
      "execution_count": null,
      "outputs": [
        {
          "output_type": "stream",
          "name": "stdout",
          "text": [
            "(100, 720, 1280, 3) (100, 720, 1280, 3)\n"
          ]
        }
      ]
    },
    {
      "cell_type": "code",
      "source": [
        "#cercare un modo per stampare meglio queste immagini\n",
        "\n",
        "import matplotlib.pyplot as plt\n",
        "\n",
        "n_rows = 2\n",
        "n_cols = 2\n",
        "\n",
        "\n",
        "plt.figure(figsize=(n_cols * 28.4, n_rows * 28.6))\n",
        "for row in range(n_rows):\n",
        "    for col in range(n_cols):\n",
        "        index = 2*(n_cols * row + col)\n",
        "        plt.subplot(n_rows, 2*n_cols, index + 1)\n",
        "        plt.imshow(x[index], cmap=\"binary\", interpolation=\"nearest\")\n",
        "        plt.axis('off')\n",
        "        plt.subplot(n_rows, 2*n_cols, index + 2)\n",
        "        plt.imshow(y[index], cmap=\"binary\", interpolation=\"nearest\")\n",
        "        plt.axis('off')\n",
        "        #plt.title(class_names[y_train[index][0]]) #mettere come titolo \"sfocato\" , \"definito\"\n",
        "        \n",
        "plt.show()"
      ],
      "metadata": {
        "id": "kL6uvjSqmaJE"
      },
      "execution_count": null,
      "outputs": []
    },
    {
      "cell_type": "code",
      "source": [
        "from sklearn.model_selection import train_test_split\n",
        "from sklearn.preprocessing import MinMaxScaler\n",
        "\n",
        "x_train, x_test, y_train, y_test = train_test_split(x,y,test_size=0.2)\n",
        "#normaliziamo l'input tra 0 e 1\n",
        "\n",
        "x_train = x_train/255\n",
        "x_test = x_test/255\n",
        "y_train = y_train/255\n",
        "y_test = y_test/255\n",
        "\n",
        "print(np.shape(x_train))\n",
        "print(np.max(x_train), np.min(y_train))\n"
      ],
      "metadata": {
        "id": "k6SEEoz1Kfmx",
        "colab": {
          "base_uri": "https://localhost:8080/"
        },
        "outputId": "b038068d-6e90-4ce3-ca4a-cd33e2b212cf"
      },
      "execution_count": null,
      "outputs": [
        {
          "output_type": "stream",
          "name": "stdout",
          "text": [
            "(80, 720, 1280, 3)\n",
            "1.0 0.0\n"
          ]
        }
      ]
    },
    {
      "cell_type": "code",
      "source": [
        "print(np.shape(x_train)[1:])"
      ],
      "metadata": {
        "colab": {
          "base_uri": "https://localhost:8080/"
        },
        "id": "GGH7RHqw6fGT",
        "outputId": "3218b499-3243-4dd2-dd3f-0f362ac7f12b"
      },
      "execution_count": null,
      "outputs": [
        {
          "output_type": "stream",
          "name": "stdout",
          "text": [
            "(720, 1280, 3)\n"
          ]
        }
      ]
    },
    {
      "cell_type": "code",
      "source": [
        "#definiamo il nostro modello\n",
        "input_shape = np.shape(x_train)[1:]\n",
        "\n",
        "model = keras.models.Sequential([\n",
        "    #encoder\n",
        "    keras.layers.Conv2D(filters=32, kernel_size=[3,3], padding=\"same\", activation=\"relu\", input_shape=input_shape),\n",
        "    keras.layers.MaxPool2D(pool_size=2),\n",
        "    keras.layers.Conv2D(filters=16, kernel_size=[2,2], activation='relu'),\n",
        "    keras.layers.MaxPool2D(pool_size=[2,2]),\n",
        "    #decoder\n",
        "    keras.layers.Conv2DTranspose(32, (2, 2), strides=2, activation=\"relu\", padding=\"same\"),\n",
        "    keras.layers.Conv2DTranspose(32, (3, 3), strides=2, activation=\"relu\", padding=\"same\"),\n",
        "    keras.layers.Conv2D(1, (3, 3), activation=\"sigmoid\", padding=\"same\")\n",
        "    #keras.layers.Dense(10, activation=\"softmax\")\n",
        "    \n",
        "    # bisogna aggiustare i parametri in modo che l'output abbia dimensioni uguali a input_shape  ossia (720, 1280, 3)\n",
        "    \n",
        "  ])\n",
        "model.compile(loss=\"sparse_categorical_crossentropy\",\n",
        "              optimizer='adam',\n",
        "              metrics=[\"mse\"]) #mse anzichè accuracy\n",
        "model.summary()"
      ],
      "metadata": {
        "colab": {
          "base_uri": "https://localhost:8080/"
        },
        "id": "JP0Mlt6rsDVw",
        "outputId": "e92418bc-1c8e-4436-e49e-138e228531d1"
      },
      "execution_count": null,
      "outputs": [
        {
          "output_type": "stream",
          "name": "stdout",
          "text": [
            "Model: \"sequential_3\"\n",
            "_________________________________________________________________\n",
            " Layer (type)                Output Shape              Param #   \n",
            "=================================================================\n",
            " conv2d_9 (Conv2D)           (None, 720, 1280, 32)     896       \n",
            "                                                                 \n",
            " max_pooling2d_4 (MaxPooling  (None, 360, 640, 32)     0         \n",
            " 2D)                                                             \n",
            "                                                                 \n",
            " conv2d_10 (Conv2D)          (None, 359, 639, 16)      2064      \n",
            "                                                                 \n",
            " max_pooling2d_5 (MaxPooling  (None, 179, 319, 16)     0         \n",
            " 2D)                                                             \n",
            "                                                                 \n",
            " conv2d_transpose_6 (Conv2DT  (None, 358, 638, 32)     4640      \n",
            " ranspose)                                                       \n",
            "                                                                 \n",
            " conv2d_transpose_7 (Conv2DT  (None, 716, 1276, 32)    9248      \n",
            " ranspose)                                                       \n",
            "                                                                 \n",
            " conv2d_11 (Conv2D)          (None, 716, 1276, 1)      289       \n",
            "                                                                 \n",
            "=================================================================\n",
            "Total params: 17,137\n",
            "Trainable params: 17,137\n",
            "Non-trainable params: 0\n",
            "_________________________________________________________________\n"
          ]
        }
      ]
    },
    {
      "cell_type": "code",
      "source": [
        "# train the model\n",
        "history = model.fit(\n",
        "    x=x_train,\n",
        "    y=y_train,\n",
        "    epochs=10,\n",
        "    batch_size=128,\n",
        "    verbose = 1,\n",
        "    #shuffle=True,\n",
        "    validation_data=(x_test, y_test),\n",
        ")\n"
      ],
      "metadata": {
        "id": "jSXoOIiz-72B"
      },
      "execution_count": null,
      "outputs": []
    },
    {
      "cell_type": "code",
      "source": [
        "#cambiare accuracy con mse\n",
        "\n",
        "def plot_loss(history):\n",
        "  plt.figure(figsize=(10,6))\n",
        "  plt.plot(history.epoch,history.history['loss'], label='loss')\n",
        "  plt.plot(history.epoch,history.history['val_loss'],label='val_loss')\n",
        "  plt.title('loss')\n",
        "  plt.legend()\n",
        "  \n",
        "def plot_accuracy(history):\n",
        "  plt.figure(figsize=(10,6))\n",
        "  plt.plot(history.epoch,history.history['accuracy'],label='accuracy')\n",
        "  plt.plot(history.epoch,history.history['val_accuracy'],label='val_accuracy')\n",
        "  plt.title('accuracy')\n",
        "  plt.legend()\n",
        "  \n",
        "plot_loss(history)\n",
        "\n",
        "plot_accuracy(history)\n",
        "\n",
        "scores = model.evaluate(x_test, y_test, verbose=2)\n",
        "print(\"%s: %.2f%%\" % (model.metrics_names[1], scores[1]*100))"
      ],
      "metadata": {
        "id": "Ll1hYvx4AwZJ"
      },
      "execution_count": null,
      "outputs": []
    },
    {
      "cell_type": "code",
      "source": [
        "# mostrare di nuovo le immagini correte dalla rete neurale rispetto a quelle vere"
      ],
      "metadata": {
        "id": "Jk9Yfh6QDOey"
      },
      "execution_count": null,
      "outputs": []
    }
  ]
}